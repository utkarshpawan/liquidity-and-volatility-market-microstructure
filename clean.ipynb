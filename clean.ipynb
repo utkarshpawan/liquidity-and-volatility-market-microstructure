{
 "cells": [
  {
   "cell_type": "code",
   "execution_count": 1,
   "id": "ce9db8e2",
   "metadata": {},
   "outputs": [],
   "source": [
    "import pandas as pd"
   ]
  },
  {
   "cell_type": "code",
   "execution_count": 2,
   "id": "0c69bc84",
   "metadata": {},
   "outputs": [],
   "source": [
    "can1 = pd.read_parquet('cancelled_chunk_1.parquet')\n",
    "can2 = pd.read_parquet('cancelled_chunk_2.parquet')\n",
    "can3 = pd.read_parquet('cancelled_chunk_3.parquet')\n",
    "can4 = pd.read_parquet('cancelled_chunk_4.parquet')\n",
    "can5 = pd.read_parquet('cancelled_chunk_5.parquet')\n",
    "\n",
    "\n"
   ]
  },
  {
   "cell_type": "code",
   "execution_count": 3,
   "id": "b192ce6d",
   "metadata": {},
   "outputs": [],
   "source": [
    "can = pd.concat([can1, can2, can3, can4, can5])\n"
   ]
  },
  {
   "cell_type": "code",
   "execution_count": 4,
   "id": "aea06461",
   "metadata": {},
   "outputs": [
    {
     "name": "stdout",
     "output_type": "stream",
     "text": [
      "True\n"
     ]
    }
   ],
   "source": [
    "print(len(can) == len(can1) + len(can2) + len(can3) + len(can4) + len(can5))"
   ]
  },
  {
   "cell_type": "code",
   "execution_count": 5,
   "id": "f0361372",
   "metadata": {},
   "outputs": [],
   "source": [
    "can.to_parquet('cancelled.parquet')"
   ]
  },
  {
   "cell_type": "code",
   "execution_count": 2,
   "id": "9d6fcacf",
   "metadata": {},
   "outputs": [],
   "source": [
    "import pandas as pd"
   ]
  },
  {
   "cell_type": "code",
   "execution_count": 3,
   "id": "be025d4e",
   "metadata": {},
   "outputs": [],
   "source": [
    "df1_od = pd.read_parquet('orders_chunk_4.parquet')\n",
    "df1_on = pd.read_parquet('order_number_chunk_4.parquet')"
   ]
  },
  {
   "cell_type": "code",
   "execution_count": 4,
   "id": "bc7c1360",
   "metadata": {},
   "outputs": [
    {
     "name": "stdout",
     "output_type": "stream",
     "text": [
      "0\n"
     ]
    }
   ],
   "source": [
    "print(len(df1_od) - len(df1_on))"
   ]
  },
  {
   "cell_type": "code",
   "execution_count": 5,
   "id": "3d2fb99b",
   "metadata": {},
   "outputs": [],
   "source": [
    "df1 = df1_od.merge(df1_on, left_index=True, right_index=True, how='inner')\n"
   ]
  },
  {
   "cell_type": "code",
   "execution_count": 6,
   "id": "8b03a438",
   "metadata": {},
   "outputs": [
    {
     "name": "stdout",
     "output_type": "stream",
     "text": [
      "0\n"
     ]
    }
   ],
   "source": [
    "print(len(df1) - len(df1_od))"
   ]
  },
  {
   "cell_type": "code",
   "execution_count": 7,
   "id": "298b1a03",
   "metadata": {},
   "outputs": [
    {
     "data": {
      "text/html": [
       "<div>\n",
       "<style scoped>\n",
       "    .dataframe tbody tr th:only-of-type {\n",
       "        vertical-align: middle;\n",
       "    }\n",
       "\n",
       "    .dataframe tbody tr th {\n",
       "        vertical-align: top;\n",
       "    }\n",
       "\n",
       "    .dataframe thead th {\n",
       "        text-align: right;\n",
       "    }\n",
       "</style>\n",
       "<table border=\"1\" class=\"dataframe\">\n",
       "  <thead>\n",
       "    <tr style=\"text-align: right;\">\n",
       "      <th></th>\n",
       "      <th>Timestamp</th>\n",
       "      <th>Side</th>\n",
       "      <th>Price</th>\n",
       "      <th>Volume_Disclosed</th>\n",
       "      <th>Price_Type</th>\n",
       "      <th>Symbol</th>\n",
       "      <th>Original_Qty</th>\n",
       "      <th>TimeStamp</th>\n",
       "      <th>Order Number</th>\n",
       "      <th>IOC Flag</th>\n",
       "      <th>Activity Type</th>\n",
       "    </tr>\n",
       "  </thead>\n",
       "  <tbody>\n",
       "    <tr>\n",
       "      <th>0</th>\n",
       "      <td>79631629203325</td>\n",
       "      <td>B</td>\n",
       "      <td>209.40</td>\n",
       "      <td>166</td>\n",
       "      <td>Limit</td>\n",
       "      <td>OIL</td>\n",
       "      <td>166</td>\n",
       "      <td>79631629203325</td>\n",
       "      <td>1200000000112466</td>\n",
       "      <td>N</td>\n",
       "      <td>4</td>\n",
       "    </tr>\n",
       "    <tr>\n",
       "      <th>1</th>\n",
       "      <td>79631629203326</td>\n",
       "      <td>B</td>\n",
       "      <td>209.55</td>\n",
       "      <td>166</td>\n",
       "      <td>Limit</td>\n",
       "      <td>OIL</td>\n",
       "      <td>166</td>\n",
       "      <td>79631629203326</td>\n",
       "      <td>1200000001817196</td>\n",
       "      <td>N</td>\n",
       "      <td>4</td>\n",
       "    </tr>\n",
       "    <tr>\n",
       "      <th>2</th>\n",
       "      <td>79631629203327</td>\n",
       "      <td>B</td>\n",
       "      <td>209.45</td>\n",
       "      <td>171</td>\n",
       "      <td>Limit</td>\n",
       "      <td>OIL</td>\n",
       "      <td>171</td>\n",
       "      <td>79631629203327</td>\n",
       "      <td>1200000001535479</td>\n",
       "      <td>N</td>\n",
       "      <td>4</td>\n",
       "    </tr>\n",
       "    <tr>\n",
       "      <th>3</th>\n",
       "      <td>79631629203328</td>\n",
       "      <td>S</td>\n",
       "      <td>210.25</td>\n",
       "      <td>166</td>\n",
       "      <td>Limit</td>\n",
       "      <td>OIL</td>\n",
       "      <td>166</td>\n",
       "      <td>79631629203328</td>\n",
       "      <td>1200000001951398</td>\n",
       "      <td>N</td>\n",
       "      <td>4</td>\n",
       "    </tr>\n",
       "    <tr>\n",
       "      <th>4</th>\n",
       "      <td>79631629203329</td>\n",
       "      <td>S</td>\n",
       "      <td>210.30</td>\n",
       "      <td>166</td>\n",
       "      <td>Limit</td>\n",
       "      <td>OIL</td>\n",
       "      <td>166</td>\n",
       "      <td>79631629203329</td>\n",
       "      <td>1200000000112474</td>\n",
       "      <td>N</td>\n",
       "      <td>4</td>\n",
       "    </tr>\n",
       "  </tbody>\n",
       "</table>\n",
       "</div>"
      ],
      "text/plain": [
       "        Timestamp Side   Price  Volume_Disclosed Price_Type Symbol  \\\n",
       "0  79631629203325    B  209.40               166      Limit    OIL   \n",
       "1  79631629203326    B  209.55               166      Limit    OIL   \n",
       "2  79631629203327    B  209.45               171      Limit    OIL   \n",
       "3  79631629203328    S  210.25               166      Limit    OIL   \n",
       "4  79631629203329    S  210.30               166      Limit    OIL   \n",
       "\n",
       "   Original_Qty       TimeStamp      Order Number IOC Flag  Activity Type  \n",
       "0           166  79631629203325  1200000000112466        N              4  \n",
       "1           166  79631629203326  1200000001817196        N              4  \n",
       "2           171  79631629203327  1200000001535479        N              4  \n",
       "3           166  79631629203328  1200000001951398        N              4  \n",
       "4           166  79631629203329  1200000000112474        N              4  "
      ]
     },
     "execution_count": 7,
     "metadata": {},
     "output_type": "execute_result"
    }
   ],
   "source": [
    "df1.head()"
   ]
  },
  {
   "cell_type": "code",
   "execution_count": 8,
   "id": "0bd9199f",
   "metadata": {},
   "outputs": [],
   "source": [
    "df1 = df1.drop('TimeStamp', axis = 1)"
   ]
  },
  {
   "cell_type": "code",
   "execution_count": 9,
   "id": "73b109f5",
   "metadata": {},
   "outputs": [
    {
     "data": {
      "text/html": [
       "<div>\n",
       "<style scoped>\n",
       "    .dataframe tbody tr th:only-of-type {\n",
       "        vertical-align: middle;\n",
       "    }\n",
       "\n",
       "    .dataframe tbody tr th {\n",
       "        vertical-align: top;\n",
       "    }\n",
       "\n",
       "    .dataframe thead th {\n",
       "        text-align: right;\n",
       "    }\n",
       "</style>\n",
       "<table border=\"1\" class=\"dataframe\">\n",
       "  <thead>\n",
       "    <tr style=\"text-align: right;\">\n",
       "      <th></th>\n",
       "      <th>Timestamp</th>\n",
       "      <th>Side</th>\n",
       "      <th>Price</th>\n",
       "      <th>Volume_Disclosed</th>\n",
       "      <th>Price_Type</th>\n",
       "      <th>Symbol</th>\n",
       "      <th>Original_Qty</th>\n",
       "      <th>Order Number</th>\n",
       "      <th>IOC Flag</th>\n",
       "      <th>Activity Type</th>\n",
       "    </tr>\n",
       "  </thead>\n",
       "  <tbody>\n",
       "    <tr>\n",
       "      <th>0</th>\n",
       "      <td>79631629203325</td>\n",
       "      <td>B</td>\n",
       "      <td>209.40</td>\n",
       "      <td>166</td>\n",
       "      <td>Limit</td>\n",
       "      <td>OIL</td>\n",
       "      <td>166</td>\n",
       "      <td>1200000000112466</td>\n",
       "      <td>N</td>\n",
       "      <td>4</td>\n",
       "    </tr>\n",
       "    <tr>\n",
       "      <th>1</th>\n",
       "      <td>79631629203326</td>\n",
       "      <td>B</td>\n",
       "      <td>209.55</td>\n",
       "      <td>166</td>\n",
       "      <td>Limit</td>\n",
       "      <td>OIL</td>\n",
       "      <td>166</td>\n",
       "      <td>1200000001817196</td>\n",
       "      <td>N</td>\n",
       "      <td>4</td>\n",
       "    </tr>\n",
       "    <tr>\n",
       "      <th>2</th>\n",
       "      <td>79631629203327</td>\n",
       "      <td>B</td>\n",
       "      <td>209.45</td>\n",
       "      <td>171</td>\n",
       "      <td>Limit</td>\n",
       "      <td>OIL</td>\n",
       "      <td>171</td>\n",
       "      <td>1200000001535479</td>\n",
       "      <td>N</td>\n",
       "      <td>4</td>\n",
       "    </tr>\n",
       "    <tr>\n",
       "      <th>3</th>\n",
       "      <td>79631629203328</td>\n",
       "      <td>S</td>\n",
       "      <td>210.25</td>\n",
       "      <td>166</td>\n",
       "      <td>Limit</td>\n",
       "      <td>OIL</td>\n",
       "      <td>166</td>\n",
       "      <td>1200000001951398</td>\n",
       "      <td>N</td>\n",
       "      <td>4</td>\n",
       "    </tr>\n",
       "    <tr>\n",
       "      <th>4</th>\n",
       "      <td>79631629203329</td>\n",
       "      <td>S</td>\n",
       "      <td>210.30</td>\n",
       "      <td>166</td>\n",
       "      <td>Limit</td>\n",
       "      <td>OIL</td>\n",
       "      <td>166</td>\n",
       "      <td>1200000000112474</td>\n",
       "      <td>N</td>\n",
       "      <td>4</td>\n",
       "    </tr>\n",
       "  </tbody>\n",
       "</table>\n",
       "</div>"
      ],
      "text/plain": [
       "        Timestamp Side   Price  Volume_Disclosed Price_Type Symbol  \\\n",
       "0  79631629203325    B  209.40               166      Limit    OIL   \n",
       "1  79631629203326    B  209.55               166      Limit    OIL   \n",
       "2  79631629203327    B  209.45               171      Limit    OIL   \n",
       "3  79631629203328    S  210.25               166      Limit    OIL   \n",
       "4  79631629203329    S  210.30               166      Limit    OIL   \n",
       "\n",
       "   Original_Qty      Order Number IOC Flag  Activity Type  \n",
       "0           166  1200000000112466        N              4  \n",
       "1           166  1200000001817196        N              4  \n",
       "2           171  1200000001535479        N              4  \n",
       "3           166  1200000001951398        N              4  \n",
       "4           166  1200000000112474        N              4  "
      ]
     },
     "execution_count": 9,
     "metadata": {},
     "output_type": "execute_result"
    }
   ],
   "source": [
    "df1.head()"
   ]
  },
  {
   "cell_type": "code",
   "execution_count": 10,
   "id": "aa5ad2ca",
   "metadata": {},
   "outputs": [],
   "source": [
    "df1.to_parquet('order_4.parquet')"
   ]
  },
  {
   "cell_type": "code",
   "execution_count": 1,
   "id": "6a86be74",
   "metadata": {},
   "outputs": [],
   "source": [
    "import pandas as pd"
   ]
  },
  {
   "cell_type": "code",
   "execution_count": 2,
   "id": "6eacd95e",
   "metadata": {},
   "outputs": [],
   "source": [
    "df1 = pd.read_parquet('order_3.parquet')\n",
    "df2 = pd.read_parquet('order_4.parquet')\n",
    "df1 = df1[df1['Symbol'] == 'RELIANCE']\n",
    "df2 = df2[df2['Symbol'] == 'RELIANCE']\n"
   ]
  },
  {
   "cell_type": "code",
   "execution_count": 3,
   "id": "e664b496",
   "metadata": {},
   "outputs": [],
   "source": [
    "data = pd.concat([df1, df2])\n"
   ]
  },
  {
   "cell_type": "code",
   "execution_count": 4,
   "id": "132533ac",
   "metadata": {},
   "outputs": [
    {
     "name": "stdout",
     "output_type": "stream",
     "text": [
      "True\n"
     ]
    }
   ],
   "source": [
    "print(len(data) == len(df1) + len(df2))"
   ]
  },
  {
   "cell_type": "code",
   "execution_count": 5,
   "id": "d1891b5e",
   "metadata": {},
   "outputs": [
    {
     "data": {
      "text/html": [
       "<div>\n",
       "<style scoped>\n",
       "    .dataframe tbody tr th:only-of-type {\n",
       "        vertical-align: middle;\n",
       "    }\n",
       "\n",
       "    .dataframe tbody tr th {\n",
       "        vertical-align: top;\n",
       "    }\n",
       "\n",
       "    .dataframe thead th {\n",
       "        text-align: right;\n",
       "    }\n",
       "</style>\n",
       "<table border=\"1\" class=\"dataframe\">\n",
       "  <thead>\n",
       "    <tr style=\"text-align: right;\">\n",
       "      <th></th>\n",
       "      <th>Timestamp</th>\n",
       "      <th>Side</th>\n",
       "      <th>Price</th>\n",
       "      <th>Volume_Disclosed</th>\n",
       "      <th>Price_Type</th>\n",
       "      <th>Symbol</th>\n",
       "      <th>Original_Qty</th>\n",
       "      <th>Order Number</th>\n",
       "      <th>IOC Flag</th>\n",
       "      <th>Activity Type</th>\n",
       "    </tr>\n",
       "  </thead>\n",
       "  <tbody>\n",
       "    <tr>\n",
       "      <th>16358228</th>\n",
       "      <td>79631194602407</td>\n",
       "      <td>B</td>\n",
       "      <td>866.0</td>\n",
       "      <td>0</td>\n",
       "      <td>Limit</td>\n",
       "      <td>RELIANCE</td>\n",
       "      <td>1</td>\n",
       "      <td>1200000000001802</td>\n",
       "      <td>N</td>\n",
       "      <td>1</td>\n",
       "    </tr>\n",
       "    <tr>\n",
       "      <th>16358230</th>\n",
       "      <td>79631194602436</td>\n",
       "      <td>S</td>\n",
       "      <td>1055.0</td>\n",
       "      <td>0</td>\n",
       "      <td>Limit</td>\n",
       "      <td>RELIANCE</td>\n",
       "      <td>1</td>\n",
       "      <td>1200000000001804</td>\n",
       "      <td>N</td>\n",
       "      <td>1</td>\n",
       "    </tr>\n",
       "    <tr>\n",
       "      <th>16358250</th>\n",
       "      <td>79631194602723</td>\n",
       "      <td>S</td>\n",
       "      <td>960.0</td>\n",
       "      <td>0</td>\n",
       "      <td>Limit</td>\n",
       "      <td>RELIANCE</td>\n",
       "      <td>24</td>\n",
       "      <td>1200000000001826</td>\n",
       "      <td>N</td>\n",
       "      <td>1</td>\n",
       "    </tr>\n",
       "    <tr>\n",
       "      <th>16358258</th>\n",
       "      <td>79631194602855</td>\n",
       "      <td>B</td>\n",
       "      <td>950.0</td>\n",
       "      <td>0</td>\n",
       "      <td>Limit</td>\n",
       "      <td>RELIANCE</td>\n",
       "      <td>1</td>\n",
       "      <td>1200000000001835</td>\n",
       "      <td>N</td>\n",
       "      <td>1</td>\n",
       "    </tr>\n",
       "    <tr>\n",
       "      <th>16358259</th>\n",
       "      <td>79631194602868</td>\n",
       "      <td>B</td>\n",
       "      <td>950.0</td>\n",
       "      <td>0</td>\n",
       "      <td>Limit</td>\n",
       "      <td>RELIANCE</td>\n",
       "      <td>1</td>\n",
       "      <td>1200000000001836</td>\n",
       "      <td>N</td>\n",
       "      <td>1</td>\n",
       "    </tr>\n",
       "  </tbody>\n",
       "</table>\n",
       "</div>"
      ],
      "text/plain": [
       "               Timestamp Side   Price  Volume_Disclosed Price_Type    Symbol  \\\n",
       "16358228  79631194602407    B   866.0                 0      Limit  RELIANCE   \n",
       "16358230  79631194602436    S  1055.0                 0      Limit  RELIANCE   \n",
       "16358250  79631194602723    S   960.0                 0      Limit  RELIANCE   \n",
       "16358258  79631194602855    B   950.0                 0      Limit  RELIANCE   \n",
       "16358259  79631194602868    B   950.0                 0      Limit  RELIANCE   \n",
       "\n",
       "          Original_Qty      Order Number IOC Flag  Activity Type  \n",
       "16358228             1  1200000000001802        N              1  \n",
       "16358230             1  1200000000001804        N              1  \n",
       "16358250            24  1200000000001826        N              1  \n",
       "16358258             1  1200000000001835        N              1  \n",
       "16358259             1  1200000000001836        N              1  "
      ]
     },
     "execution_count": 5,
     "metadata": {},
     "output_type": "execute_result"
    }
   ],
   "source": [
    "data.head()"
   ]
  },
  {
   "cell_type": "code",
   "execution_count": 6,
   "id": "1b05e1e4",
   "metadata": {},
   "outputs": [],
   "source": [
    "data.to_parquet('rel.parquet')"
   ]
  },
  {
   "cell_type": "code",
   "execution_count": 1,
   "id": "7df9e02e",
   "metadata": {},
   "outputs": [],
   "source": [
    "import pandas as pd\n",
    "df = pd.read_parquet('rel.parquet')\n",
    "can = pd.read_parquet('cancelled.parquet')"
   ]
  },
  {
   "cell_type": "code",
   "execution_count": 23,
   "id": "9c405a67",
   "metadata": {},
   "outputs": [],
   "source": [
    "can = can.rename(columns = {'TimeStamp' : 'Timestamp'})"
   ]
  },
  {
   "cell_type": "code",
   "execution_count": 24,
   "id": "3eacecab",
   "metadata": {},
   "outputs": [
    {
     "data": {
      "text/html": [
       "<div>\n",
       "<style scoped>\n",
       "    .dataframe tbody tr th:only-of-type {\n",
       "        vertical-align: middle;\n",
       "    }\n",
       "\n",
       "    .dataframe tbody tr th {\n",
       "        vertical-align: top;\n",
       "    }\n",
       "\n",
       "    .dataframe thead th {\n",
       "        text-align: right;\n",
       "    }\n",
       "</style>\n",
       "<table border=\"1\" class=\"dataframe\">\n",
       "  <thead>\n",
       "    <tr style=\"text-align: right;\">\n",
       "      <th></th>\n",
       "      <th>Timestamp</th>\n",
       "      <th>Order Number</th>\n",
       "      <th>IOC Flag</th>\n",
       "      <th>Activity Type</th>\n",
       "    </tr>\n",
       "  </thead>\n",
       "  <tbody>\n",
       "    <tr>\n",
       "      <th>0</th>\n",
       "      <td>79631194995693</td>\n",
       "      <td>1000000000007281</td>\n",
       "      <td>N</td>\n",
       "      <td>3</td>\n",
       "    </tr>\n",
       "    <tr>\n",
       "      <th>1</th>\n",
       "      <td>79631195013045</td>\n",
       "      <td>1000000000005540</td>\n",
       "      <td>N</td>\n",
       "      <td>3</td>\n",
       "    </tr>\n",
       "    <tr>\n",
       "      <th>2</th>\n",
       "      <td>79631195115036</td>\n",
       "      <td>1000000000006571</td>\n",
       "      <td>N</td>\n",
       "      <td>3</td>\n",
       "    </tr>\n",
       "    <tr>\n",
       "      <th>3</th>\n",
       "      <td>79631195116810</td>\n",
       "      <td>1000000000007282</td>\n",
       "      <td>N</td>\n",
       "      <td>3</td>\n",
       "    </tr>\n",
       "    <tr>\n",
       "      <th>4</th>\n",
       "      <td>79631195125870</td>\n",
       "      <td>1000000000007860</td>\n",
       "      <td>N</td>\n",
       "      <td>3</td>\n",
       "    </tr>\n",
       "  </tbody>\n",
       "</table>\n",
       "</div>"
      ],
      "text/plain": [
       "        Timestamp      Order Number IOC Flag  Activity Type\n",
       "0  79631194995693  1000000000007281        N              3\n",
       "1  79631195013045  1000000000005540        N              3\n",
       "2  79631195115036  1000000000006571        N              3\n",
       "3  79631195116810  1000000000007282        N              3\n",
       "4  79631195125870  1000000000007860        N              3"
      ]
     },
     "execution_count": 24,
     "metadata": {},
     "output_type": "execute_result"
    }
   ],
   "source": [
    "can.head()"
   ]
  },
  {
   "cell_type": "code",
   "execution_count": 25,
   "id": "a32eb5ac",
   "metadata": {},
   "outputs": [],
   "source": [
    "can_filtered = can[can['Order Number'].isin(df['Order Number'])]"
   ]
  },
  {
   "cell_type": "code",
   "execution_count": 26,
   "id": "da4c4963",
   "metadata": {},
   "outputs": [
    {
     "data": {
      "text/html": [
       "<div>\n",
       "<style scoped>\n",
       "    .dataframe tbody tr th:only-of-type {\n",
       "        vertical-align: middle;\n",
       "    }\n",
       "\n",
       "    .dataframe tbody tr th {\n",
       "        vertical-align: top;\n",
       "    }\n",
       "\n",
       "    .dataframe thead th {\n",
       "        text-align: right;\n",
       "    }\n",
       "</style>\n",
       "<table border=\"1\" class=\"dataframe\">\n",
       "  <thead>\n",
       "    <tr style=\"text-align: right;\">\n",
       "      <th></th>\n",
       "      <th>Timestamp</th>\n",
       "      <th>Order Number</th>\n",
       "      <th>IOC Flag</th>\n",
       "      <th>Activity Type</th>\n",
       "    </tr>\n",
       "  </thead>\n",
       "  <tbody>\n",
       "    <tr>\n",
       "      <th>1756432</th>\n",
       "      <td>79631195233428</td>\n",
       "      <td>1200000000006171</td>\n",
       "      <td>N</td>\n",
       "      <td>3</td>\n",
       "    </tr>\n",
       "    <tr>\n",
       "      <th>1756433</th>\n",
       "      <td>79631195236162</td>\n",
       "      <td>1200000000001836</td>\n",
       "      <td>N</td>\n",
       "      <td>3</td>\n",
       "    </tr>\n",
       "    <tr>\n",
       "      <th>1756435</th>\n",
       "      <td>79631195278581</td>\n",
       "      <td>1200000000007951</td>\n",
       "      <td>N</td>\n",
       "      <td>3</td>\n",
       "    </tr>\n",
       "    <tr>\n",
       "      <th>1756436</th>\n",
       "      <td>79631195281144</td>\n",
       "      <td>1200000000008332</td>\n",
       "      <td>N</td>\n",
       "      <td>3</td>\n",
       "    </tr>\n",
       "    <tr>\n",
       "      <th>1756437</th>\n",
       "      <td>79631195315173</td>\n",
       "      <td>1200000000001835</td>\n",
       "      <td>N</td>\n",
       "      <td>3</td>\n",
       "    </tr>\n",
       "  </tbody>\n",
       "</table>\n",
       "</div>"
      ],
      "text/plain": [
       "              Timestamp      Order Number IOC Flag  Activity Type\n",
       "1756432  79631195233428  1200000000006171        N              3\n",
       "1756433  79631195236162  1200000000001836        N              3\n",
       "1756435  79631195278581  1200000000007951        N              3\n",
       "1756436  79631195281144  1200000000008332        N              3\n",
       "1756437  79631195315173  1200000000001835        N              3"
      ]
     },
     "execution_count": 26,
     "metadata": {},
     "output_type": "execute_result"
    }
   ],
   "source": [
    "can_filtered.head()\n"
   ]
  },
  {
   "cell_type": "code",
   "execution_count": 27,
   "id": "bf79efdf",
   "metadata": {},
   "outputs": [
    {
     "data": {
      "text/plain": [
       "84852"
      ]
     },
     "execution_count": 27,
     "metadata": {},
     "output_type": "execute_result"
    }
   ],
   "source": [
    "len(can_filtered)"
   ]
  },
  {
   "cell_type": "code",
   "execution_count": 28,
   "id": "83129d4c",
   "metadata": {},
   "outputs": [],
   "source": [
    "data = pd.concat([df, can_filtered], ignore_index=True)\n"
   ]
  },
  {
   "cell_type": "code",
   "execution_count": 29,
   "id": "8df3b4a3",
   "metadata": {},
   "outputs": [
    {
     "name": "stdout",
     "output_type": "stream",
     "text": [
      "True\n"
     ]
    }
   ],
   "source": [
    "print(len(data) == len(df) + len(can_filtered))"
   ]
  },
  {
   "cell_type": "code",
   "execution_count": 30,
   "id": "c8d52826",
   "metadata": {},
   "outputs": [
    {
     "data": {
      "text/html": [
       "<div>\n",
       "<style scoped>\n",
       "    .dataframe tbody tr th:only-of-type {\n",
       "        vertical-align: middle;\n",
       "    }\n",
       "\n",
       "    .dataframe tbody tr th {\n",
       "        vertical-align: top;\n",
       "    }\n",
       "\n",
       "    .dataframe thead th {\n",
       "        text-align: right;\n",
       "    }\n",
       "</style>\n",
       "<table border=\"1\" class=\"dataframe\">\n",
       "  <thead>\n",
       "    <tr style=\"text-align: right;\">\n",
       "      <th></th>\n",
       "      <th>Timestamp</th>\n",
       "      <th>Side</th>\n",
       "      <th>Price</th>\n",
       "      <th>Volume_Disclosed</th>\n",
       "      <th>Price_Type</th>\n",
       "      <th>Symbol</th>\n",
       "      <th>Original_Qty</th>\n",
       "      <th>Order Number</th>\n",
       "      <th>IOC Flag</th>\n",
       "      <th>Activity Type</th>\n",
       "    </tr>\n",
       "  </thead>\n",
       "  <tbody>\n",
       "    <tr>\n",
       "      <th>0</th>\n",
       "      <td>79631194602407</td>\n",
       "      <td>B</td>\n",
       "      <td>866.0</td>\n",
       "      <td>0.0</td>\n",
       "      <td>Limit</td>\n",
       "      <td>RELIANCE</td>\n",
       "      <td>1.0</td>\n",
       "      <td>1200000000001802</td>\n",
       "      <td>N</td>\n",
       "      <td>1</td>\n",
       "    </tr>\n",
       "    <tr>\n",
       "      <th>1</th>\n",
       "      <td>79631194602436</td>\n",
       "      <td>S</td>\n",
       "      <td>1055.0</td>\n",
       "      <td>0.0</td>\n",
       "      <td>Limit</td>\n",
       "      <td>RELIANCE</td>\n",
       "      <td>1.0</td>\n",
       "      <td>1200000000001804</td>\n",
       "      <td>N</td>\n",
       "      <td>1</td>\n",
       "    </tr>\n",
       "    <tr>\n",
       "      <th>2</th>\n",
       "      <td>79631194602723</td>\n",
       "      <td>S</td>\n",
       "      <td>960.0</td>\n",
       "      <td>0.0</td>\n",
       "      <td>Limit</td>\n",
       "      <td>RELIANCE</td>\n",
       "      <td>24.0</td>\n",
       "      <td>1200000000001826</td>\n",
       "      <td>N</td>\n",
       "      <td>1</td>\n",
       "    </tr>\n",
       "    <tr>\n",
       "      <th>3</th>\n",
       "      <td>79631194602855</td>\n",
       "      <td>B</td>\n",
       "      <td>950.0</td>\n",
       "      <td>0.0</td>\n",
       "      <td>Limit</td>\n",
       "      <td>RELIANCE</td>\n",
       "      <td>1.0</td>\n",
       "      <td>1200000000001835</td>\n",
       "      <td>N</td>\n",
       "      <td>1</td>\n",
       "    </tr>\n",
       "    <tr>\n",
       "      <th>4</th>\n",
       "      <td>79631194602868</td>\n",
       "      <td>B</td>\n",
       "      <td>950.0</td>\n",
       "      <td>0.0</td>\n",
       "      <td>Limit</td>\n",
       "      <td>RELIANCE</td>\n",
       "      <td>1.0</td>\n",
       "      <td>1200000000001836</td>\n",
       "      <td>N</td>\n",
       "      <td>1</td>\n",
       "    </tr>\n",
       "    <tr>\n",
       "      <th>...</th>\n",
       "      <td>...</td>\n",
       "      <td>...</td>\n",
       "      <td>...</td>\n",
       "      <td>...</td>\n",
       "      <td>...</td>\n",
       "      <td>...</td>\n",
       "      <td>...</td>\n",
       "      <td>...</td>\n",
       "      <td>...</td>\n",
       "      <td>...</td>\n",
       "    </tr>\n",
       "    <tr>\n",
       "      <th>1494545</th>\n",
       "      <td>79632794787721</td>\n",
       "      <td>NaN</td>\n",
       "      <td>NaN</td>\n",
       "      <td>NaN</td>\n",
       "      <td>NaN</td>\n",
       "      <td>NaN</td>\n",
       "      <td>NaN</td>\n",
       "      <td>1200000002461909</td>\n",
       "      <td>N</td>\n",
       "      <td>3</td>\n",
       "    </tr>\n",
       "    <tr>\n",
       "      <th>1494546</th>\n",
       "      <td>79632794790470</td>\n",
       "      <td>NaN</td>\n",
       "      <td>NaN</td>\n",
       "      <td>NaN</td>\n",
       "      <td>NaN</td>\n",
       "      <td>NaN</td>\n",
       "      <td>NaN</td>\n",
       "      <td>1200000001751595</td>\n",
       "      <td>N</td>\n",
       "      <td>3</td>\n",
       "    </tr>\n",
       "    <tr>\n",
       "      <th>1494547</th>\n",
       "      <td>79632794790979</td>\n",
       "      <td>NaN</td>\n",
       "      <td>NaN</td>\n",
       "      <td>NaN</td>\n",
       "      <td>NaN</td>\n",
       "      <td>NaN</td>\n",
       "      <td>NaN</td>\n",
       "      <td>1200000000477081</td>\n",
       "      <td>N</td>\n",
       "      <td>3</td>\n",
       "    </tr>\n",
       "    <tr>\n",
       "      <th>1494548</th>\n",
       "      <td>79632815895021</td>\n",
       "      <td>NaN</td>\n",
       "      <td>NaN</td>\n",
       "      <td>NaN</td>\n",
       "      <td>NaN</td>\n",
       "      <td>NaN</td>\n",
       "      <td>NaN</td>\n",
       "      <td>1200000000072857</td>\n",
       "      <td>N</td>\n",
       "      <td>3</td>\n",
       "    </tr>\n",
       "    <tr>\n",
       "      <th>1494549</th>\n",
       "      <td>79632815964814</td>\n",
       "      <td>NaN</td>\n",
       "      <td>NaN</td>\n",
       "      <td>NaN</td>\n",
       "      <td>NaN</td>\n",
       "      <td>NaN</td>\n",
       "      <td>NaN</td>\n",
       "      <td>1200000000477124</td>\n",
       "      <td>N</td>\n",
       "      <td>3</td>\n",
       "    </tr>\n",
       "  </tbody>\n",
       "</table>\n",
       "<p>1494550 rows × 10 columns</p>\n",
       "</div>"
      ],
      "text/plain": [
       "              Timestamp Side   Price  Volume_Disclosed Price_Type    Symbol  \\\n",
       "0        79631194602407    B   866.0               0.0      Limit  RELIANCE   \n",
       "1        79631194602436    S  1055.0               0.0      Limit  RELIANCE   \n",
       "2        79631194602723    S   960.0               0.0      Limit  RELIANCE   \n",
       "3        79631194602855    B   950.0               0.0      Limit  RELIANCE   \n",
       "4        79631194602868    B   950.0               0.0      Limit  RELIANCE   \n",
       "...                 ...  ...     ...               ...        ...       ...   \n",
       "1494545  79632794787721  NaN     NaN               NaN        NaN       NaN   \n",
       "1494546  79632794790470  NaN     NaN               NaN        NaN       NaN   \n",
       "1494547  79632794790979  NaN     NaN               NaN        NaN       NaN   \n",
       "1494548  79632815895021  NaN     NaN               NaN        NaN       NaN   \n",
       "1494549  79632815964814  NaN     NaN               NaN        NaN       NaN   \n",
       "\n",
       "         Original_Qty      Order Number IOC Flag  Activity Type  \n",
       "0                 1.0  1200000000001802        N              1  \n",
       "1                 1.0  1200000000001804        N              1  \n",
       "2                24.0  1200000000001826        N              1  \n",
       "3                 1.0  1200000000001835        N              1  \n",
       "4                 1.0  1200000000001836        N              1  \n",
       "...               ...               ...      ...            ...  \n",
       "1494545           NaN  1200000002461909        N              3  \n",
       "1494546           NaN  1200000001751595        N              3  \n",
       "1494547           NaN  1200000000477081        N              3  \n",
       "1494548           NaN  1200000000072857        N              3  \n",
       "1494549           NaN  1200000000477124        N              3  \n",
       "\n",
       "[1494550 rows x 10 columns]"
      ]
     },
     "execution_count": 30,
     "metadata": {},
     "output_type": "execute_result"
    }
   ],
   "source": [
    "data.head(100000000)"
   ]
  },
  {
   "cell_type": "code",
   "execution_count": 32,
   "id": "446fcedf",
   "metadata": {},
   "outputs": [],
   "source": [
    "data.to_parquet('rel_order.parquet')"
   ]
  },
  {
   "cell_type": "code",
   "execution_count": null,
   "id": "600b7f93",
   "metadata": {},
   "outputs": [],
   "source": []
  }
 ],
 "metadata": {
  "kernelspec": {
   "display_name": ".venv",
   "language": "python",
   "name": "python3"
  },
  "language_info": {
   "codemirror_mode": {
    "name": "ipython",
    "version": 3
   },
   "file_extension": ".py",
   "mimetype": "text/x-python",
   "name": "python",
   "nbconvert_exporter": "python",
   "pygments_lexer": "ipython3",
   "version": "3.11.3"
  }
 },
 "nbformat": 4,
 "nbformat_minor": 5
}
