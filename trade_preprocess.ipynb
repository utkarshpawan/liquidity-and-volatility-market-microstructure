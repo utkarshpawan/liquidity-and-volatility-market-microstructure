{
 "cells": [
  {
   "cell_type": "code",
   "execution_count": 12,
   "id": "843bcd89",
   "metadata": {},
   "outputs": [],
   "source": [
    "import pandas as pd\n",
    "name = 'INFY'"
   ]
  },
  {
   "cell_type": "code",
   "execution_count": 13,
   "id": "16babc0f",
   "metadata": {},
   "outputs": [
    {
     "name": "stdout",
     "output_type": "stream",
     "text": [
      "bbbbbbINFY\n"
     ]
    }
   ],
   "source": [
    "sym = 'b' * (10 - len(name)) + name\n",
    "print(sym)"
   ]
  },
  {
   "cell_type": "code",
   "execution_count": 14,
   "id": "3e3e2847",
   "metadata": {},
   "outputs": [],
   "source": [
    "df = pd.read_csv('CASH_Trades_03072018.DAT', header = None)"
   ]
  },
  {
   "cell_type": "code",
   "execution_count": 15,
   "id": "6c05165b",
   "metadata": {},
   "outputs": [
    {
     "data": {
      "text/html": [
       "<div>\n",
       "<style scoped>\n",
       "    .dataframe tbody tr th:only-of-type {\n",
       "        vertical-align: middle;\n",
       "    }\n",
       "\n",
       "    .dataframe tbody tr th {\n",
       "        vertical-align: top;\n",
       "    }\n",
       "\n",
       "    .dataframe thead th {\n",
       "        text-align: right;\n",
       "    }\n",
       "</style>\n",
       "<table border=\"1\" class=\"dataframe\">\n",
       "  <thead>\n",
       "    <tr style=\"text-align: right;\">\n",
       "      <th></th>\n",
       "      <th>0</th>\n",
       "    </tr>\n",
       "  </thead>\n",
       "  <tbody>\n",
       "    <tr>\n",
       "      <th>0</th>\n",
       "      <td>RMCASH201807030000000179631223195167bbAARTIIND...</td>\n",
       "    </tr>\n",
       "    <tr>\n",
       "      <th>1</th>\n",
       "      <td>RMCASH201807030000000279631223195168bbbbbbABAN...</td>\n",
       "    </tr>\n",
       "    <tr>\n",
       "      <th>2</th>\n",
       "      <td>RMCASH201807030000000379631223195169bbbbbbABAN...</td>\n",
       "    </tr>\n",
       "    <tr>\n",
       "      <th>3</th>\n",
       "      <td>RMCASH201807030000000479631223195170bbbbbbABAN...</td>\n",
       "    </tr>\n",
       "    <tr>\n",
       "      <th>4</th>\n",
       "      <td>RMCASH201807030000000579631223195171bbbbbbABAN...</td>\n",
       "    </tr>\n",
       "  </tbody>\n",
       "</table>\n",
       "</div>"
      ],
      "text/plain": [
       "                                                   0\n",
       "0  RMCASH201807030000000179631223195167bbAARTIIND...\n",
       "1  RMCASH201807030000000279631223195168bbbbbbABAN...\n",
       "2  RMCASH201807030000000379631223195169bbbbbbABAN...\n",
       "3  RMCASH201807030000000479631223195170bbbbbbABAN...\n",
       "4  RMCASH201807030000000579631223195171bbbbbbABAN..."
      ]
     },
     "execution_count": 15,
     "metadata": {},
     "output_type": "execute_result"
    }
   ],
   "source": [
    "df.head()"
   ]
  },
  {
   "cell_type": "code",
   "execution_count": 16,
   "id": "9485d4ee",
   "metadata": {},
   "outputs": [],
   "source": [
    "df = df[df[0].str[36:46] == sym]\n"
   ]
  },
  {
   "cell_type": "code",
   "execution_count": 17,
   "id": "d1e5f592",
   "metadata": {},
   "outputs": [
    {
     "data": {
      "text/html": [
       "<div>\n",
       "<style scoped>\n",
       "    .dataframe tbody tr th:only-of-type {\n",
       "        vertical-align: middle;\n",
       "    }\n",
       "\n",
       "    .dataframe tbody tr th {\n",
       "        vertical-align: top;\n",
       "    }\n",
       "\n",
       "    .dataframe thead th {\n",
       "        text-align: right;\n",
       "    }\n",
       "</style>\n",
       "<table border=\"1\" class=\"dataframe\">\n",
       "  <thead>\n",
       "    <tr style=\"text-align: right;\">\n",
       "      <th></th>\n",
       "      <th>0</th>\n",
       "    </tr>\n",
       "  </thead>\n",
       "  <tbody>\n",
       "    <tr>\n",
       "      <th>2313400</th>\n",
       "      <td>RMCASH201807032500132079631223196256bbbbbbINFY...</td>\n",
       "    </tr>\n",
       "    <tr>\n",
       "      <th>2313401</th>\n",
       "      <td>RMCASH201807032500132179631223196257bbbbbbINFY...</td>\n",
       "    </tr>\n",
       "    <tr>\n",
       "      <th>2313402</th>\n",
       "      <td>RMCASH201807032500132279631223196258bbbbbbINFY...</td>\n",
       "    </tr>\n",
       "    <tr>\n",
       "      <th>2313403</th>\n",
       "      <td>RMCASH201807032500132379631223196259bbbbbbINFY...</td>\n",
       "    </tr>\n",
       "    <tr>\n",
       "      <th>2313404</th>\n",
       "      <td>RMCASH201807032500132479631223196260bbbbbbINFY...</td>\n",
       "    </tr>\n",
       "  </tbody>\n",
       "</table>\n",
       "</div>"
      ],
      "text/plain": [
       "                                                         0\n",
       "2313400  RMCASH201807032500132079631223196256bbbbbbINFY...\n",
       "2313401  RMCASH201807032500132179631223196257bbbbbbINFY...\n",
       "2313402  RMCASH201807032500132279631223196258bbbbbbINFY...\n",
       "2313403  RMCASH201807032500132379631223196259bbbbbbINFY...\n",
       "2313404  RMCASH201807032500132479631223196260bbbbbbINFY..."
      ]
     },
     "execution_count": 17,
     "metadata": {},
     "output_type": "execute_result"
    }
   ],
   "source": [
    "df.head()"
   ]
  },
  {
   "cell_type": "code",
   "execution_count": 18,
   "id": "720e422e",
   "metadata": {},
   "outputs": [],
   "source": [
    "\n",
    "df['trade_time'] = df[0].str[22:36]                      # 22:36\n",
    "df['price'] = df[0].str[48:56].astype(int) / 100        # 48:56 -> int /100\n",
    "df['quantity'] = df[0].str[56:64].astype(int)           # 56:64 -> int\n",
    "df['buy_order_number'] = df[0].str[64:80]               # 64:80\n",
    "df['sell_order_number'] = df[0].str[82:98]              # 82:98\n"
   ]
  },
  {
   "cell_type": "code",
   "execution_count": 19,
   "id": "40ac90c9",
   "metadata": {},
   "outputs": [],
   "source": [
    "df = df.drop(columns=[0])\n"
   ]
  },
  {
   "cell_type": "code",
   "execution_count": 20,
   "id": "4c383cf1",
   "metadata": {},
   "outputs": [],
   "source": [
    "df.to_parquet(f'{name}_trade.parquet')"
   ]
  },
  {
   "cell_type": "code",
   "execution_count": 21,
   "id": "be2d4822",
   "metadata": {},
   "outputs": [
    {
     "data": {
      "text/html": [
       "<div>\n",
       "<style scoped>\n",
       "    .dataframe tbody tr th:only-of-type {\n",
       "        vertical-align: middle;\n",
       "    }\n",
       "\n",
       "    .dataframe tbody tr th {\n",
       "        vertical-align: top;\n",
       "    }\n",
       "\n",
       "    .dataframe thead th {\n",
       "        text-align: right;\n",
       "    }\n",
       "</style>\n",
       "<table border=\"1\" class=\"dataframe\">\n",
       "  <thead>\n",
       "    <tr style=\"text-align: right;\">\n",
       "      <th></th>\n",
       "      <th>trade_time</th>\n",
       "      <th>price</th>\n",
       "      <th>quantity</th>\n",
       "      <th>buy_order_number</th>\n",
       "      <th>sell_order_number</th>\n",
       "    </tr>\n",
       "  </thead>\n",
       "  <tbody>\n",
       "    <tr>\n",
       "      <th>2313400</th>\n",
       "      <td>79631223196256</td>\n",
       "      <td>1331.9</td>\n",
       "      <td>5</td>\n",
       "      <td>1100000000011752</td>\n",
       "      <td>1100000000065484</td>\n",
       "    </tr>\n",
       "    <tr>\n",
       "      <th>2313401</th>\n",
       "      <td>79631223196257</td>\n",
       "      <td>1331.9</td>\n",
       "      <td>4</td>\n",
       "      <td>1100000000065637</td>\n",
       "      <td>1100000000065484</td>\n",
       "    </tr>\n",
       "    <tr>\n",
       "      <th>2313402</th>\n",
       "      <td>79631223196258</td>\n",
       "      <td>1331.9</td>\n",
       "      <td>1</td>\n",
       "      <td>1100000000054362</td>\n",
       "      <td>1100000000065484</td>\n",
       "    </tr>\n",
       "    <tr>\n",
       "      <th>2313403</th>\n",
       "      <td>79631223196259</td>\n",
       "      <td>1331.9</td>\n",
       "      <td>20</td>\n",
       "      <td>1100000000011652</td>\n",
       "      <td>1100000000044489</td>\n",
       "    </tr>\n",
       "    <tr>\n",
       "      <th>2313404</th>\n",
       "      <td>79631223196260</td>\n",
       "      <td>1331.9</td>\n",
       "      <td>20</td>\n",
       "      <td>1100000000011652</td>\n",
       "      <td>1100000000058868</td>\n",
       "    </tr>\n",
       "  </tbody>\n",
       "</table>\n",
       "</div>"
      ],
      "text/plain": [
       "             trade_time   price  quantity  buy_order_number sell_order_number\n",
       "2313400  79631223196256  1331.9         5  1100000000011752  1100000000065484\n",
       "2313401  79631223196257  1331.9         4  1100000000065637  1100000000065484\n",
       "2313402  79631223196258  1331.9         1  1100000000054362  1100000000065484\n",
       "2313403  79631223196259  1331.9        20  1100000000011652  1100000000044489\n",
       "2313404  79631223196260  1331.9        20  1100000000011652  1100000000058868"
      ]
     },
     "execution_count": 21,
     "metadata": {},
     "output_type": "execute_result"
    }
   ],
   "source": [
    "df.head()"
   ]
  },
  {
   "cell_type": "code",
   "execution_count": 22,
   "id": "1067c5e9",
   "metadata": {},
   "outputs": [
    {
     "data": {
      "text/plain": [
       "140810"
      ]
     },
     "execution_count": 22,
     "metadata": {},
     "output_type": "execute_result"
    }
   ],
   "source": [
    "len(df)"
   ]
  },
  {
   "cell_type": "code",
   "execution_count": null,
   "id": "23d94b55",
   "metadata": {},
   "outputs": [],
   "source": []
  }
 ],
 "metadata": {
  "kernelspec": {
   "display_name": ".venv",
   "language": "python",
   "name": "python3"
  },
  "language_info": {
   "codemirror_mode": {
    "name": "ipython",
    "version": 3
   },
   "file_extension": ".py",
   "mimetype": "text/x-python",
   "name": "python",
   "nbconvert_exporter": "python",
   "pygments_lexer": "ipython3",
   "version": "3.11.3"
  }
 },
 "nbformat": 4,
 "nbformat_minor": 5
}
