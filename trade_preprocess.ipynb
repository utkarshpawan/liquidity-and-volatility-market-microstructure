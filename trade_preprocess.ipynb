{
 "cells": [
  {
   "cell_type": "code",
   "execution_count": 1,
   "id": "843bcd89",
   "metadata": {},
   "outputs": [],
   "source": [
    "import pandas as pd\n",
    "name = 'SBIN'"
   ]
  },
  {
   "cell_type": "code",
   "execution_count": 2,
   "id": "16babc0f",
   "metadata": {},
   "outputs": [
    {
     "name": "stdout",
     "output_type": "stream",
     "text": [
      "bbbbbbSBIN\n"
     ]
    }
   ],
   "source": [
    "sym = 'b' * (10 - len(name)) + name\n",
    "print(sym)"
   ]
  },
  {
   "cell_type": "code",
   "execution_count": 16,
   "id": "3e3e2847",
   "metadata": {},
   "outputs": [],
   "source": [
    "df = pd.read_csv('CASH_Trades_03072018.DAT', header = None)"
   ]
  },
  {
   "cell_type": "code",
   "execution_count": 17,
   "id": "6c05165b",
   "metadata": {},
   "outputs": [
    {
     "data": {
      "text/html": [
       "<div>\n",
       "<style scoped>\n",
       "    .dataframe tbody tr th:only-of-type {\n",
       "        vertical-align: middle;\n",
       "    }\n",
       "\n",
       "    .dataframe tbody tr th {\n",
       "        vertical-align: top;\n",
       "    }\n",
       "\n",
       "    .dataframe thead th {\n",
       "        text-align: right;\n",
       "    }\n",
       "</style>\n",
       "<table border=\"1\" class=\"dataframe\">\n",
       "  <thead>\n",
       "    <tr style=\"text-align: right;\">\n",
       "      <th></th>\n",
       "      <th>0</th>\n",
       "    </tr>\n",
       "  </thead>\n",
       "  <tbody>\n",
       "    <tr>\n",
       "      <th>0</th>\n",
       "      <td>RMCASH201807030000000179631223195167bbAARTIIND...</td>\n",
       "    </tr>\n",
       "    <tr>\n",
       "      <th>1</th>\n",
       "      <td>RMCASH201807030000000279631223195168bbbbbbABAN...</td>\n",
       "    </tr>\n",
       "    <tr>\n",
       "      <th>2</th>\n",
       "      <td>RMCASH201807030000000379631223195169bbbbbbABAN...</td>\n",
       "    </tr>\n",
       "    <tr>\n",
       "      <th>3</th>\n",
       "      <td>RMCASH201807030000000479631223195170bbbbbbABAN...</td>\n",
       "    </tr>\n",
       "    <tr>\n",
       "      <th>4</th>\n",
       "      <td>RMCASH201807030000000579631223195171bbbbbbABAN...</td>\n",
       "    </tr>\n",
       "  </tbody>\n",
       "</table>\n",
       "</div>"
      ],
      "text/plain": [
       "                                                   0\n",
       "0  RMCASH201807030000000179631223195167bbAARTIIND...\n",
       "1  RMCASH201807030000000279631223195168bbbbbbABAN...\n",
       "2  RMCASH201807030000000379631223195169bbbbbbABAN...\n",
       "3  RMCASH201807030000000479631223195170bbbbbbABAN...\n",
       "4  RMCASH201807030000000579631223195171bbbbbbABAN..."
      ]
     },
     "execution_count": 17,
     "metadata": {},
     "output_type": "execute_result"
    }
   ],
   "source": [
    "df.head()"
   ]
  },
  {
   "cell_type": "code",
   "execution_count": 18,
   "id": "9485d4ee",
   "metadata": {},
   "outputs": [],
   "source": [
    "df = df[df[0].str[36:46] == sym]\n"
   ]
  },
  {
   "cell_type": "code",
   "execution_count": 19,
   "id": "d1e5f592",
   "metadata": {},
   "outputs": [
    {
     "data": {
      "text/html": [
       "<div>\n",
       "<style scoped>\n",
       "    .dataframe tbody tr th:only-of-type {\n",
       "        vertical-align: middle;\n",
       "    }\n",
       "\n",
       "    .dataframe tbody tr th {\n",
       "        vertical-align: top;\n",
       "    }\n",
       "\n",
       "    .dataframe thead th {\n",
       "        text-align: right;\n",
       "    }\n",
       "</style>\n",
       "<table border=\"1\" class=\"dataframe\">\n",
       "  <thead>\n",
       "    <tr style=\"text-align: right;\">\n",
       "      <th></th>\n",
       "      <th>0</th>\n",
       "    </tr>\n",
       "  </thead>\n",
       "  <tbody>\n",
       "    <tr>\n",
       "      <th>7398209</th>\n",
       "      <td>RMCASH201807037500007279631223195044bbbbbbSBIN...</td>\n",
       "    </tr>\n",
       "    <tr>\n",
       "      <th>7398210</th>\n",
       "      <td>RMCASH201807037500007379631223195045bbbbbbSBIN...</td>\n",
       "    </tr>\n",
       "    <tr>\n",
       "      <th>7398211</th>\n",
       "      <td>RMCASH201807037500007479631223195046bbbbbbSBIN...</td>\n",
       "    </tr>\n",
       "    <tr>\n",
       "      <th>7398212</th>\n",
       "      <td>RMCASH201807037500007579631223195047bbbbbbSBIN...</td>\n",
       "    </tr>\n",
       "    <tr>\n",
       "      <th>7398213</th>\n",
       "      <td>RMCASH201807037500007679631223195048bbbbbbSBIN...</td>\n",
       "    </tr>\n",
       "  </tbody>\n",
       "</table>\n",
       "</div>"
      ],
      "text/plain": [
       "                                                         0\n",
       "7398209  RMCASH201807037500007279631223195044bbbbbbSBIN...\n",
       "7398210  RMCASH201807037500007379631223195045bbbbbbSBIN...\n",
       "7398211  RMCASH201807037500007479631223195046bbbbbbSBIN...\n",
       "7398212  RMCASH201807037500007579631223195047bbbbbbSBIN...\n",
       "7398213  RMCASH201807037500007679631223195048bbbbbbSBIN..."
      ]
     },
     "execution_count": 19,
     "metadata": {},
     "output_type": "execute_result"
    }
   ],
   "source": [
    "df.head()"
   ]
  },
  {
   "cell_type": "code",
   "execution_count": 20,
   "id": "720e422e",
   "metadata": {},
   "outputs": [],
   "source": [
    "\n",
    "df['trade_time'] = df[0].str[22:36]                      # 22:36\n",
    "df['price'] = df[0].str[48:56].astype(int) / 100        # 48:56 -> int /100\n",
    "df['quantity'] = df[0].str[56:64].astype(int)           # 56:64 -> int\n",
    "df['buy_order_number'] = df[0].str[64:80]               # 64:80\n",
    "df['sell_order_number'] = df[0].str[82:98]              # 82:98\n"
   ]
  },
  {
   "cell_type": "code",
   "execution_count": 21,
   "id": "40ac90c9",
   "metadata": {},
   "outputs": [],
   "source": [
    "df = df.drop(columns=[0])\n"
   ]
  },
  {
   "cell_type": "code",
   "execution_count": 22,
   "id": "4c383cf1",
   "metadata": {},
   "outputs": [],
   "source": [
    "df.to_parquet(f'{name}_trade.parquet')"
   ]
  },
  {
   "cell_type": "code",
   "execution_count": null,
   "id": "be2d4822",
   "metadata": {},
   "outputs": [
    {
     "data": {
      "text/html": [
       "<div>\n",
       "<style scoped>\n",
       "    .dataframe tbody tr th:only-of-type {\n",
       "        vertical-align: middle;\n",
       "    }\n",
       "\n",
       "    .dataframe tbody tr th {\n",
       "        vertical-align: top;\n",
       "    }\n",
       "\n",
       "    .dataframe thead th {\n",
       "        text-align: right;\n",
       "    }\n",
       "</style>\n",
       "<table border=\"1\" class=\"dataframe\">\n",
       "  <thead>\n",
       "    <tr style=\"text-align: right;\">\n",
       "      <th></th>\n",
       "      <th>trade_time</th>\n",
       "      <th>price</th>\n",
       "      <th>quantity</th>\n",
       "      <th>buy_order_number</th>\n",
       "      <th>sell_order_number</th>\n",
       "    </tr>\n",
       "  </thead>\n",
       "  <tbody>\n",
       "    <tr>\n",
       "      <th>7398209</th>\n",
       "      <td>79631223195044</td>\n",
       "      <td>259.6</td>\n",
       "      <td>25</td>\n",
       "      <td>1300000000053655</td>\n",
       "      <td>1300000000057907</td>\n",
       "    </tr>\n",
       "    <tr>\n",
       "      <th>7398210</th>\n",
       "      <td>79631223195045</td>\n",
       "      <td>259.6</td>\n",
       "      <td>5</td>\n",
       "      <td>1300000000050079</td>\n",
       "      <td>1300000000057907</td>\n",
       "    </tr>\n",
       "    <tr>\n",
       "      <th>7398211</th>\n",
       "      <td>79631223195046</td>\n",
       "      <td>259.6</td>\n",
       "      <td>4</td>\n",
       "      <td>1300000000050265</td>\n",
       "      <td>1300000000057907</td>\n",
       "    </tr>\n",
       "    <tr>\n",
       "      <th>7398212</th>\n",
       "      <td>79631223195047</td>\n",
       "      <td>259.6</td>\n",
       "      <td>3</td>\n",
       "      <td>1300000000050535</td>\n",
       "      <td>1300000000057907</td>\n",
       "    </tr>\n",
       "    <tr>\n",
       "      <th>7398213</th>\n",
       "      <td>79631223195048</td>\n",
       "      <td>259.6</td>\n",
       "      <td>2</td>\n",
       "      <td>1300000000051136</td>\n",
       "      <td>1300000000057907</td>\n",
       "    </tr>\n",
       "  </tbody>\n",
       "</table>\n",
       "</div>"
      ],
      "text/plain": [
       "             trade_time  price  quantity  buy_order_number sell_order_number\n",
       "7398209  79631223195044  259.6        25  1300000000053655  1300000000057907\n",
       "7398210  79631223195045  259.6         5  1300000000050079  1300000000057907\n",
       "7398211  79631223195046  259.6         4  1300000000050265  1300000000057907\n",
       "7398212  79631223195047  259.6         3  1300000000050535  1300000000057907\n",
       "7398213  79631223195048  259.6         2  1300000000051136  1300000000057907"
      ]
     },
     "execution_count": 23,
     "metadata": {},
     "output_type": "execute_result"
    }
   ],
   "source": [
    "df.head()"
   ]
  },
  {
   "cell_type": "code",
   "execution_count": 24,
   "id": "1067c5e9",
   "metadata": {},
   "outputs": [
    {
     "data": {
      "text/plain": [
       "92643"
      ]
     },
     "execution_count": 24,
     "metadata": {},
     "output_type": "execute_result"
    }
   ],
   "source": [
    "len(df)"
   ]
  },
  {
   "cell_type": "code",
   "execution_count": null,
   "id": "23d94b55",
   "metadata": {},
   "outputs": [],
   "source": []
  }
 ],
 "metadata": {
  "kernelspec": {
   "display_name": ".venv",
   "language": "python",
   "name": "python3"
  },
  "language_info": {
   "codemirror_mode": {
    "name": "ipython",
    "version": 3
   },
   "file_extension": ".py",
   "mimetype": "text/x-python",
   "name": "python",
   "nbconvert_exporter": "python",
   "pygments_lexer": "ipython3",
   "version": "3.11.3"
  }
 },
 "nbformat": 4,
 "nbformat_minor": 5
}
