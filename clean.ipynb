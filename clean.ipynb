{
 "cells": [
  {
   "cell_type": "code",
   "execution_count": 34,
   "id": "6a86be74",
   "metadata": {},
   "outputs": [],
   "source": [
    "import pandas as pd"
   ]
  },
  {
   "cell_type": "code",
   "execution_count": 35,
   "id": "70f1349a",
   "metadata": {},
   "outputs": [],
   "source": [
    "name = 'RELIANCE'"
   ]
  },
  {
   "cell_type": "code",
   "execution_count": 36,
   "id": "6eacd95e",
   "metadata": {},
   "outputs": [
    {
     "name": "stdout",
     "output_type": "stream",
     "text": [
      "[3, 4]\n"
     ]
    }
   ],
   "source": [
    "def files(name: str, no: int):\n",
    "    df = pd.read_parquet(f'order_{no}.parquet')\n",
    "    df = df[df['Symbol'] == name]\n",
    "    return len(df) > 0\n",
    "\n",
    "def files_seq(name: str):\n",
    "    i = 1\n",
    "    res = []\n",
    "    while True:\n",
    "        try:\n",
    "            if files(name, i):\n",
    "                res.append(i)\n",
    "            i += 1\n",
    "        except FileNotFoundError:\n",
    "            break\n",
    "\n",
    "        if i > 5:\n",
    "            break\n",
    "    return res\n",
    "\n",
    "\n",
    "print(files_seq(name))"
   ]
  },
  {
   "cell_type": "code",
   "execution_count": 37,
   "id": "69f64165",
   "metadata": {},
   "outputs": [],
   "source": [
    "df1 = pd.read_parquet('order_3.parquet')\n",
    "df2 = pd.read_parquet('order_4.parquet')"
   ]
  },
  {
   "cell_type": "code",
   "execution_count": 38,
   "id": "e664b496",
   "metadata": {},
   "outputs": [],
   "source": [
    "df = pd.concat([df1, df2])"
   ]
  },
  {
   "cell_type": "code",
   "execution_count": 39,
   "id": "132533ac",
   "metadata": {},
   "outputs": [
    {
     "name": "stdout",
     "output_type": "stream",
     "text": [
      "True\n"
     ]
    }
   ],
   "source": [
    "print(len(df) == len(df1) + len(df2))"
   ]
  },
  {
   "cell_type": "code",
   "execution_count": 40,
   "id": "5dbded4a",
   "metadata": {},
   "outputs": [],
   "source": [
    "df = df[df['Symbol'] == name]"
   ]
  },
  {
   "cell_type": "code",
   "execution_count": 41,
   "id": "d1891b5e",
   "metadata": {},
   "outputs": [
    {
     "data": {
      "text/html": [
       "<div>\n",
       "<style scoped>\n",
       "    .dataframe tbody tr th:only-of-type {\n",
       "        vertical-align: middle;\n",
       "    }\n",
       "\n",
       "    .dataframe tbody tr th {\n",
       "        vertical-align: top;\n",
       "    }\n",
       "\n",
       "    .dataframe thead th {\n",
       "        text-align: right;\n",
       "    }\n",
       "</style>\n",
       "<table border=\"1\" class=\"dataframe\">\n",
       "  <thead>\n",
       "    <tr style=\"text-align: right;\">\n",
       "      <th></th>\n",
       "      <th>Timestamp</th>\n",
       "      <th>Side</th>\n",
       "      <th>Price</th>\n",
       "      <th>Volume_Disclosed</th>\n",
       "      <th>Price_Type</th>\n",
       "      <th>Symbol</th>\n",
       "      <th>Original_Qty</th>\n",
       "      <th>Order Number</th>\n",
       "      <th>IOC Flag</th>\n",
       "      <th>Activity Type</th>\n",
       "    </tr>\n",
       "  </thead>\n",
       "  <tbody>\n",
       "    <tr>\n",
       "      <th>16358228</th>\n",
       "      <td>79631194602407</td>\n",
       "      <td>B</td>\n",
       "      <td>866.0</td>\n",
       "      <td>0</td>\n",
       "      <td>Limit</td>\n",
       "      <td>RELIANCE</td>\n",
       "      <td>1</td>\n",
       "      <td>1200000000001802</td>\n",
       "      <td>N</td>\n",
       "      <td>1</td>\n",
       "    </tr>\n",
       "    <tr>\n",
       "      <th>16358230</th>\n",
       "      <td>79631194602436</td>\n",
       "      <td>S</td>\n",
       "      <td>1055.0</td>\n",
       "      <td>0</td>\n",
       "      <td>Limit</td>\n",
       "      <td>RELIANCE</td>\n",
       "      <td>1</td>\n",
       "      <td>1200000000001804</td>\n",
       "      <td>N</td>\n",
       "      <td>1</td>\n",
       "    </tr>\n",
       "    <tr>\n",
       "      <th>16358250</th>\n",
       "      <td>79631194602723</td>\n",
       "      <td>S</td>\n",
       "      <td>960.0</td>\n",
       "      <td>0</td>\n",
       "      <td>Limit</td>\n",
       "      <td>RELIANCE</td>\n",
       "      <td>24</td>\n",
       "      <td>1200000000001826</td>\n",
       "      <td>N</td>\n",
       "      <td>1</td>\n",
       "    </tr>\n",
       "    <tr>\n",
       "      <th>16358258</th>\n",
       "      <td>79631194602855</td>\n",
       "      <td>B</td>\n",
       "      <td>950.0</td>\n",
       "      <td>0</td>\n",
       "      <td>Limit</td>\n",
       "      <td>RELIANCE</td>\n",
       "      <td>1</td>\n",
       "      <td>1200000000001835</td>\n",
       "      <td>N</td>\n",
       "      <td>1</td>\n",
       "    </tr>\n",
       "    <tr>\n",
       "      <th>16358259</th>\n",
       "      <td>79631194602868</td>\n",
       "      <td>B</td>\n",
       "      <td>950.0</td>\n",
       "      <td>0</td>\n",
       "      <td>Limit</td>\n",
       "      <td>RELIANCE</td>\n",
       "      <td>1</td>\n",
       "      <td>1200000000001836</td>\n",
       "      <td>N</td>\n",
       "      <td>1</td>\n",
       "    </tr>\n",
       "  </tbody>\n",
       "</table>\n",
       "</div>"
      ],
      "text/plain": [
       "               Timestamp Side   Price  Volume_Disclosed Price_Type    Symbol  \\\n",
       "16358228  79631194602407    B   866.0                 0      Limit  RELIANCE   \n",
       "16358230  79631194602436    S  1055.0                 0      Limit  RELIANCE   \n",
       "16358250  79631194602723    S   960.0                 0      Limit  RELIANCE   \n",
       "16358258  79631194602855    B   950.0                 0      Limit  RELIANCE   \n",
       "16358259  79631194602868    B   950.0                 0      Limit  RELIANCE   \n",
       "\n",
       "          Original_Qty      Order Number IOC Flag  Activity Type  \n",
       "16358228             1  1200000000001802        N              1  \n",
       "16358230             1  1200000000001804        N              1  \n",
       "16358250            24  1200000000001826        N              1  \n",
       "16358258             1  1200000000001835        N              1  \n",
       "16358259             1  1200000000001836        N              1  "
      ]
     },
     "execution_count": 41,
     "metadata": {},
     "output_type": "execute_result"
    }
   ],
   "source": [
    "df.head()"
   ]
  },
  {
   "cell_type": "code",
   "execution_count": 42,
   "id": "7df9e02e",
   "metadata": {},
   "outputs": [],
   "source": [
    "can = pd.read_parquet('cancelled.parquet')"
   ]
  },
  {
   "cell_type": "code",
   "execution_count": 43,
   "id": "9c405a67",
   "metadata": {},
   "outputs": [],
   "source": [
    "can = can.rename(columns = {'TimeStamp' : 'Timestamp'})"
   ]
  },
  {
   "cell_type": "code",
   "execution_count": 44,
   "id": "3eacecab",
   "metadata": {},
   "outputs": [
    {
     "data": {
      "text/html": [
       "<div>\n",
       "<style scoped>\n",
       "    .dataframe tbody tr th:only-of-type {\n",
       "        vertical-align: middle;\n",
       "    }\n",
       "\n",
       "    .dataframe tbody tr th {\n",
       "        vertical-align: top;\n",
       "    }\n",
       "\n",
       "    .dataframe thead th {\n",
       "        text-align: right;\n",
       "    }\n",
       "</style>\n",
       "<table border=\"1\" class=\"dataframe\">\n",
       "  <thead>\n",
       "    <tr style=\"text-align: right;\">\n",
       "      <th></th>\n",
       "      <th>Timestamp</th>\n",
       "      <th>Order Number</th>\n",
       "      <th>IOC Flag</th>\n",
       "      <th>Activity Type</th>\n",
       "    </tr>\n",
       "  </thead>\n",
       "  <tbody>\n",
       "    <tr>\n",
       "      <th>0</th>\n",
       "      <td>79631194995693</td>\n",
       "      <td>1000000000007281</td>\n",
       "      <td>N</td>\n",
       "      <td>3</td>\n",
       "    </tr>\n",
       "    <tr>\n",
       "      <th>1</th>\n",
       "      <td>79631195013045</td>\n",
       "      <td>1000000000005540</td>\n",
       "      <td>N</td>\n",
       "      <td>3</td>\n",
       "    </tr>\n",
       "    <tr>\n",
       "      <th>2</th>\n",
       "      <td>79631195115036</td>\n",
       "      <td>1000000000006571</td>\n",
       "      <td>N</td>\n",
       "      <td>3</td>\n",
       "    </tr>\n",
       "    <tr>\n",
       "      <th>3</th>\n",
       "      <td>79631195116810</td>\n",
       "      <td>1000000000007282</td>\n",
       "      <td>N</td>\n",
       "      <td>3</td>\n",
       "    </tr>\n",
       "    <tr>\n",
       "      <th>4</th>\n",
       "      <td>79631195125870</td>\n",
       "      <td>1000000000007860</td>\n",
       "      <td>N</td>\n",
       "      <td>3</td>\n",
       "    </tr>\n",
       "  </tbody>\n",
       "</table>\n",
       "</div>"
      ],
      "text/plain": [
       "        Timestamp      Order Number IOC Flag  Activity Type\n",
       "0  79631194995693  1000000000007281        N              3\n",
       "1  79631195013045  1000000000005540        N              3\n",
       "2  79631195115036  1000000000006571        N              3\n",
       "3  79631195116810  1000000000007282        N              3\n",
       "4  79631195125870  1000000000007860        N              3"
      ]
     },
     "execution_count": 44,
     "metadata": {},
     "output_type": "execute_result"
    }
   ],
   "source": [
    "can.head()"
   ]
  },
  {
   "cell_type": "code",
   "execution_count": 45,
   "id": "a32eb5ac",
   "metadata": {},
   "outputs": [],
   "source": [
    "can_filtered = can[can['Order Number'].isin(df['Order Number'])]"
   ]
  },
  {
   "cell_type": "code",
   "execution_count": 46,
   "id": "da4c4963",
   "metadata": {},
   "outputs": [
    {
     "data": {
      "text/html": [
       "<div>\n",
       "<style scoped>\n",
       "    .dataframe tbody tr th:only-of-type {\n",
       "        vertical-align: middle;\n",
       "    }\n",
       "\n",
       "    .dataframe tbody tr th {\n",
       "        vertical-align: top;\n",
       "    }\n",
       "\n",
       "    .dataframe thead th {\n",
       "        text-align: right;\n",
       "    }\n",
       "</style>\n",
       "<table border=\"1\" class=\"dataframe\">\n",
       "  <thead>\n",
       "    <tr style=\"text-align: right;\">\n",
       "      <th></th>\n",
       "      <th>Timestamp</th>\n",
       "      <th>Order Number</th>\n",
       "      <th>IOC Flag</th>\n",
       "      <th>Activity Type</th>\n",
       "    </tr>\n",
       "  </thead>\n",
       "  <tbody>\n",
       "    <tr>\n",
       "      <th>6592762</th>\n",
       "      <td>79631195233428</td>\n",
       "      <td>1200000000006171</td>\n",
       "      <td>N</td>\n",
       "      <td>3</td>\n",
       "    </tr>\n",
       "    <tr>\n",
       "      <th>6592763</th>\n",
       "      <td>79631195236162</td>\n",
       "      <td>1200000000001836</td>\n",
       "      <td>N</td>\n",
       "      <td>3</td>\n",
       "    </tr>\n",
       "    <tr>\n",
       "      <th>6592765</th>\n",
       "      <td>79631195278581</td>\n",
       "      <td>1200000000007951</td>\n",
       "      <td>N</td>\n",
       "      <td>3</td>\n",
       "    </tr>\n",
       "    <tr>\n",
       "      <th>6592766</th>\n",
       "      <td>79631195281144</td>\n",
       "      <td>1200000000008332</td>\n",
       "      <td>N</td>\n",
       "      <td>3</td>\n",
       "    </tr>\n",
       "    <tr>\n",
       "      <th>6592767</th>\n",
       "      <td>79631195315173</td>\n",
       "      <td>1200000000001835</td>\n",
       "      <td>N</td>\n",
       "      <td>3</td>\n",
       "    </tr>\n",
       "  </tbody>\n",
       "</table>\n",
       "</div>"
      ],
      "text/plain": [
       "              Timestamp      Order Number IOC Flag  Activity Type\n",
       "6592762  79631195233428  1200000000006171        N              3\n",
       "6592763  79631195236162  1200000000001836        N              3\n",
       "6592765  79631195278581  1200000000007951        N              3\n",
       "6592766  79631195281144  1200000000008332        N              3\n",
       "6592767  79631195315173  1200000000001835        N              3"
      ]
     },
     "execution_count": 46,
     "metadata": {},
     "output_type": "execute_result"
    }
   ],
   "source": [
    "can_filtered.head()\n"
   ]
  },
  {
   "cell_type": "code",
   "execution_count": 47,
   "id": "bf79efdf",
   "metadata": {},
   "outputs": [
    {
     "data": {
      "text/plain": [
       "85710"
      ]
     },
     "execution_count": 47,
     "metadata": {},
     "output_type": "execute_result"
    }
   ],
   "source": [
    "len(can_filtered)"
   ]
  },
  {
   "cell_type": "code",
   "execution_count": 48,
   "id": "83129d4c",
   "metadata": {},
   "outputs": [],
   "source": [
    "data = pd.concat([df, can_filtered], ignore_index=True)\n"
   ]
  },
  {
   "cell_type": "code",
   "execution_count": 49,
   "id": "8df3b4a3",
   "metadata": {},
   "outputs": [
    {
     "name": "stdout",
     "output_type": "stream",
     "text": [
      "True\n"
     ]
    }
   ],
   "source": [
    "print(len(data) == len(df) + len(can_filtered))"
   ]
  },
  {
   "cell_type": "code",
   "execution_count": 50,
   "id": "c8d52826",
   "metadata": {},
   "outputs": [
    {
     "data": {
      "text/html": [
       "<div>\n",
       "<style scoped>\n",
       "    .dataframe tbody tr th:only-of-type {\n",
       "        vertical-align: middle;\n",
       "    }\n",
       "\n",
       "    .dataframe tbody tr th {\n",
       "        vertical-align: top;\n",
       "    }\n",
       "\n",
       "    .dataframe thead th {\n",
       "        text-align: right;\n",
       "    }\n",
       "</style>\n",
       "<table border=\"1\" class=\"dataframe\">\n",
       "  <thead>\n",
       "    <tr style=\"text-align: right;\">\n",
       "      <th></th>\n",
       "      <th>Timestamp</th>\n",
       "      <th>Side</th>\n",
       "      <th>Price</th>\n",
       "      <th>Volume_Disclosed</th>\n",
       "      <th>Price_Type</th>\n",
       "      <th>Symbol</th>\n",
       "      <th>Original_Qty</th>\n",
       "      <th>Order Number</th>\n",
       "      <th>IOC Flag</th>\n",
       "      <th>Activity Type</th>\n",
       "    </tr>\n",
       "  </thead>\n",
       "  <tbody>\n",
       "    <tr>\n",
       "      <th>0</th>\n",
       "      <td>79631194602407</td>\n",
       "      <td>B</td>\n",
       "      <td>866.0</td>\n",
       "      <td>0.0</td>\n",
       "      <td>Limit</td>\n",
       "      <td>RELIANCE</td>\n",
       "      <td>1.0</td>\n",
       "      <td>1200000000001802</td>\n",
       "      <td>N</td>\n",
       "      <td>1</td>\n",
       "    </tr>\n",
       "    <tr>\n",
       "      <th>1</th>\n",
       "      <td>79631194602436</td>\n",
       "      <td>S</td>\n",
       "      <td>1055.0</td>\n",
       "      <td>0.0</td>\n",
       "      <td>Limit</td>\n",
       "      <td>RELIANCE</td>\n",
       "      <td>1.0</td>\n",
       "      <td>1200000000001804</td>\n",
       "      <td>N</td>\n",
       "      <td>1</td>\n",
       "    </tr>\n",
       "    <tr>\n",
       "      <th>2</th>\n",
       "      <td>79631194602723</td>\n",
       "      <td>S</td>\n",
       "      <td>960.0</td>\n",
       "      <td>0.0</td>\n",
       "      <td>Limit</td>\n",
       "      <td>RELIANCE</td>\n",
       "      <td>24.0</td>\n",
       "      <td>1200000000001826</td>\n",
       "      <td>N</td>\n",
       "      <td>1</td>\n",
       "    </tr>\n",
       "    <tr>\n",
       "      <th>3</th>\n",
       "      <td>79631194602855</td>\n",
       "      <td>B</td>\n",
       "      <td>950.0</td>\n",
       "      <td>0.0</td>\n",
       "      <td>Limit</td>\n",
       "      <td>RELIANCE</td>\n",
       "      <td>1.0</td>\n",
       "      <td>1200000000001835</td>\n",
       "      <td>N</td>\n",
       "      <td>1</td>\n",
       "    </tr>\n",
       "    <tr>\n",
       "      <th>4</th>\n",
       "      <td>79631194602868</td>\n",
       "      <td>B</td>\n",
       "      <td>950.0</td>\n",
       "      <td>0.0</td>\n",
       "      <td>Limit</td>\n",
       "      <td>RELIANCE</td>\n",
       "      <td>1.0</td>\n",
       "      <td>1200000000001836</td>\n",
       "      <td>N</td>\n",
       "      <td>1</td>\n",
       "    </tr>\n",
       "    <tr>\n",
       "      <th>...</th>\n",
       "      <td>...</td>\n",
       "      <td>...</td>\n",
       "      <td>...</td>\n",
       "      <td>...</td>\n",
       "      <td>...</td>\n",
       "      <td>...</td>\n",
       "      <td>...</td>\n",
       "      <td>...</td>\n",
       "      <td>...</td>\n",
       "      <td>...</td>\n",
       "    </tr>\n",
       "    <tr>\n",
       "      <th>1495403</th>\n",
       "      <td>79632724984054</td>\n",
       "      <td>NaN</td>\n",
       "      <td>NaN</td>\n",
       "      <td>NaN</td>\n",
       "      <td>NaN</td>\n",
       "      <td>NaN</td>\n",
       "      <td>NaN</td>\n",
       "      <td>1200000005328322</td>\n",
       "      <td>N</td>\n",
       "      <td>3</td>\n",
       "    </tr>\n",
       "    <tr>\n",
       "      <th>1495404</th>\n",
       "      <td>79632726947752</td>\n",
       "      <td>NaN</td>\n",
       "      <td>NaN</td>\n",
       "      <td>NaN</td>\n",
       "      <td>NaN</td>\n",
       "      <td>NaN</td>\n",
       "      <td>NaN</td>\n",
       "      <td>1200000005336801</td>\n",
       "      <td>N</td>\n",
       "      <td>3</td>\n",
       "    </tr>\n",
       "    <tr>\n",
       "      <th>1495405</th>\n",
       "      <td>79632724986868</td>\n",
       "      <td>NaN</td>\n",
       "      <td>NaN</td>\n",
       "      <td>NaN</td>\n",
       "      <td>NaN</td>\n",
       "      <td>NaN</td>\n",
       "      <td>NaN</td>\n",
       "      <td>1200000005341655</td>\n",
       "      <td>N</td>\n",
       "      <td>3</td>\n",
       "    </tr>\n",
       "    <tr>\n",
       "      <th>1495406</th>\n",
       "      <td>79632725516984</td>\n",
       "      <td>NaN</td>\n",
       "      <td>NaN</td>\n",
       "      <td>NaN</td>\n",
       "      <td>NaN</td>\n",
       "      <td>NaN</td>\n",
       "      <td>NaN</td>\n",
       "      <td>1200000005262718</td>\n",
       "      <td>N</td>\n",
       "      <td>3</td>\n",
       "    </tr>\n",
       "    <tr>\n",
       "      <th>1495407</th>\n",
       "      <td>79632726705926</td>\n",
       "      <td>NaN</td>\n",
       "      <td>NaN</td>\n",
       "      <td>NaN</td>\n",
       "      <td>NaN</td>\n",
       "      <td>NaN</td>\n",
       "      <td>NaN</td>\n",
       "      <td>1200000005353940</td>\n",
       "      <td>N</td>\n",
       "      <td>3</td>\n",
       "    </tr>\n",
       "  </tbody>\n",
       "</table>\n",
       "<p>1495408 rows × 10 columns</p>\n",
       "</div>"
      ],
      "text/plain": [
       "              Timestamp Side   Price  Volume_Disclosed Price_Type    Symbol  \\\n",
       "0        79631194602407    B   866.0               0.0      Limit  RELIANCE   \n",
       "1        79631194602436    S  1055.0               0.0      Limit  RELIANCE   \n",
       "2        79631194602723    S   960.0               0.0      Limit  RELIANCE   \n",
       "3        79631194602855    B   950.0               0.0      Limit  RELIANCE   \n",
       "4        79631194602868    B   950.0               0.0      Limit  RELIANCE   \n",
       "...                 ...  ...     ...               ...        ...       ...   \n",
       "1495403  79632724984054  NaN     NaN               NaN        NaN       NaN   \n",
       "1495404  79632726947752  NaN     NaN               NaN        NaN       NaN   \n",
       "1495405  79632724986868  NaN     NaN               NaN        NaN       NaN   \n",
       "1495406  79632725516984  NaN     NaN               NaN        NaN       NaN   \n",
       "1495407  79632726705926  NaN     NaN               NaN        NaN       NaN   \n",
       "\n",
       "         Original_Qty      Order Number IOC Flag  Activity Type  \n",
       "0                 1.0  1200000000001802        N              1  \n",
       "1                 1.0  1200000000001804        N              1  \n",
       "2                24.0  1200000000001826        N              1  \n",
       "3                 1.0  1200000000001835        N              1  \n",
       "4                 1.0  1200000000001836        N              1  \n",
       "...               ...               ...      ...            ...  \n",
       "1495403           NaN  1200000005328322        N              3  \n",
       "1495404           NaN  1200000005336801        N              3  \n",
       "1495405           NaN  1200000005341655        N              3  \n",
       "1495406           NaN  1200000005262718        N              3  \n",
       "1495407           NaN  1200000005353940        N              3  \n",
       "\n",
       "[1495408 rows x 10 columns]"
      ]
     },
     "execution_count": 50,
     "metadata": {},
     "output_type": "execute_result"
    }
   ],
   "source": [
    "data.head(100000000)"
   ]
  },
  {
   "cell_type": "code",
   "execution_count": 51,
   "id": "446fcedf",
   "metadata": {},
   "outputs": [],
   "source": [
    "data.to_parquet(f'{name}_order.parquet')"
   ]
  },
  {
   "cell_type": "code",
   "execution_count": null,
   "id": "da951677",
   "metadata": {},
   "outputs": [],
   "source": [
    "df1 = pd.read_parquet('order_2.parquet')"
   ]
  },
  {
   "cell_type": "code",
   "execution_count": 26,
   "id": "6ec79083",
   "metadata": {},
   "outputs": [
    {
     "data": {
      "text/html": [
       "<div>\n",
       "<style scoped>\n",
       "    .dataframe tbody tr th:only-of-type {\n",
       "        vertical-align: middle;\n",
       "    }\n",
       "\n",
       "    .dataframe tbody tr th {\n",
       "        vertical-align: top;\n",
       "    }\n",
       "\n",
       "    .dataframe thead th {\n",
       "        text-align: right;\n",
       "    }\n",
       "</style>\n",
       "<table border=\"1\" class=\"dataframe\">\n",
       "  <thead>\n",
       "    <tr style=\"text-align: right;\">\n",
       "      <th></th>\n",
       "      <th>Timestamp</th>\n",
       "      <th>Side</th>\n",
       "      <th>Price</th>\n",
       "      <th>Volume_Disclosed</th>\n",
       "      <th>Price_Type</th>\n",
       "      <th>Symbol</th>\n",
       "      <th>Original_Qty</th>\n",
       "      <th>Order Number</th>\n",
       "      <th>IOC Flag</th>\n",
       "      <th>Activity Type</th>\n",
       "    </tr>\n",
       "  </thead>\n",
       "  <tbody>\n",
       "    <tr>\n",
       "      <th>15720100</th>\n",
       "      <td>79631425757623</td>\n",
       "      <td>S</td>\n",
       "      <td>1348.45</td>\n",
       "      <td>0</td>\n",
       "      <td>Limit</td>\n",
       "      <td>INFY</td>\n",
       "      <td>50</td>\n",
       "      <td>1100000001307852</td>\n",
       "      <td>N</td>\n",
       "      <td>1</td>\n",
       "    </tr>\n",
       "  </tbody>\n",
       "</table>\n",
       "</div>"
      ],
      "text/plain": [
       "               Timestamp Side    Price  Volume_Disclosed Price_Type Symbol  \\\n",
       "15720100  79631425757623    S  1348.45                 0      Limit   INFY   \n",
       "\n",
       "          Original_Qty      Order Number IOC Flag  Activity Type  \n",
       "15720100            50  1100000001307852        N              1  "
      ]
     },
     "execution_count": 26,
     "metadata": {},
     "output_type": "execute_result"
    }
   ],
   "source": [
    "df1 = df1[df1['Order Number'] == '1100000001307852']\n",
    "df1.head()"
   ]
  },
  {
   "cell_type": "code",
   "execution_count": 27,
   "id": "d986ba15",
   "metadata": {},
   "outputs": [],
   "source": [
    "can = pd.read_parquet('cancelled.parquet')"
   ]
  },
  {
   "cell_type": "code",
   "execution_count": 28,
   "id": "d3e34578",
   "metadata": {},
   "outputs": [
    {
     "data": {
      "text/html": [
       "<div>\n",
       "<style scoped>\n",
       "    .dataframe tbody tr th:only-of-type {\n",
       "        vertical-align: middle;\n",
       "    }\n",
       "\n",
       "    .dataframe tbody tr th {\n",
       "        vertical-align: top;\n",
       "    }\n",
       "\n",
       "    .dataframe thead th {\n",
       "        text-align: right;\n",
       "    }\n",
       "</style>\n",
       "<table border=\"1\" class=\"dataframe\">\n",
       "  <thead>\n",
       "    <tr style=\"text-align: right;\">\n",
       "      <th></th>\n",
       "      <th>TimeStamp</th>\n",
       "      <th>Order Number</th>\n",
       "      <th>IOC Flag</th>\n",
       "      <th>Activity Type</th>\n",
       "    </tr>\n",
       "  </thead>\n",
       "  <tbody>\n",
       "  </tbody>\n",
       "</table>\n",
       "</div>"
      ],
      "text/plain": [
       "Empty DataFrame\n",
       "Columns: [TimeStamp, Order Number, IOC Flag, Activity Type]\n",
       "Index: []"
      ]
     },
     "execution_count": 28,
     "metadata": {},
     "output_type": "execute_result"
    }
   ],
   "source": [
    "can = can[can['Order Number'] == '1100000001307852']\n",
    "can.head()"
   ]
  },
  {
   "cell_type": "code",
   "execution_count": null,
   "id": "ece0a1ec",
   "metadata": {},
   "outputs": [],
   "source": []
  }
 ],
 "metadata": {
  "kernelspec": {
   "display_name": ".venv",
   "language": "python",
   "name": "python3"
  },
  "language_info": {
   "codemirror_mode": {
    "name": "ipython",
    "version": 3
   },
   "file_extension": ".py",
   "mimetype": "text/x-python",
   "name": "python",
   "nbconvert_exporter": "python",
   "pygments_lexer": "ipython3",
   "version": "3.11.3"
  }
 },
 "nbformat": 4,
 "nbformat_minor": 5
}
